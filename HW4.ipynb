{
  "nbformat": 4,
  "nbformat_minor": 0,
  "metadata": {
    "colab": {
      "name": "HW4.ipynb",
      "provenance": [],
      "collapsed_sections": [],
      "include_colab_link": true
    },
    "kernelspec": {
      "name": "python3",
      "display_name": "Python 3"
    }
  },
  "cells": [
    {
      "cell_type": "markdown",
      "metadata": {
        "id": "view-in-github",
        "colab_type": "text"
      },
      "source": [
        "<a href=\"https://colab.research.google.com/github/zadel28/nyu-python-public-policy/blob/master/HW4.ipynb\" target=\"_parent\"><img src=\"https://colab.research.google.com/assets/colab-badge.svg\" alt=\"Open In Colab\"/></a>"
      ]
    },
    {
      "cell_type": "code",
      "metadata": {
        "id": "7uOUBuv2VXet",
        "colab_type": "code",
        "outputId": "e4c4fe69-dd1e-4d5e-a57d-9372a1169154",
        "colab": {
          "base_uri": "https://localhost:8080/",
          "height": 122
        }
      },
      "source": [
        "import pandas as pd\n",
        "from google.colab import drive\n",
        "drive.mount('/content/drive')"
      ],
      "execution_count": 1,
      "outputs": [
        {
          "output_type": "stream",
          "text": [
            "Go to this URL in a browser: https://accounts.google.com/o/oauth2/auth?client_id=947318989803-6bn6qk8qdgf4n4g3pfee6491hc0brc4i.apps.googleusercontent.com&redirect_uri=urn%3aietf%3awg%3aoauth%3a2.0%3aoob&response_type=code&scope=email%20https%3a%2f%2fwww.googleapis.com%2fauth%2fdocs.test%20https%3a%2f%2fwww.googleapis.com%2fauth%2fdrive%20https%3a%2f%2fwww.googleapis.com%2fauth%2fdrive.photos.readonly%20https%3a%2f%2fwww.googleapis.com%2fauth%2fpeopleapi.readonly\n",
            "\n",
            "Enter your authorization code:\n",
            "··········\n",
            "Mounted at /content/drive\n"
          ],
          "name": "stdout"
        }
      ]
    },
    {
      "cell_type": "code",
      "metadata": {
        "id": "HigFvwiTg6zo",
        "colab_type": "code",
        "colab": {}
      },
      "source": [
        "import matplotlib.pyplot as plt \n",
        "import numpy as np"
      ],
      "execution_count": 0,
      "outputs": []
    },
    {
      "cell_type": "code",
      "metadata": {
        "id": "Mk73tQdfhefV",
        "colab_type": "code",
        "colab": {}
      },
      "source": [
        "pd.set_option('display.max_columns', None)\n",
        "pd.set_option('display.max_rows', None)"
      ],
      "execution_count": 0,
      "outputs": []
    },
    {
      "cell_type": "code",
      "metadata": {
        "id": "YpYfBfB8hmy-",
        "colab_type": "code",
        "outputId": "c3dde5ae-6062-4459-f822-194a6153f2d4",
        "colab": {
          "base_uri": "https://localhost:8080/",
          "height": 71
        }
      },
      "source": [
        "df = pd.read_csv('/content/drive/My Drive/Data for Python/cleaned_311_data.csv', header='infer')"
      ],
      "execution_count": 4,
      "outputs": [
        {
          "output_type": "stream",
          "text": [
            "/usr/local/lib/python3.6/dist-packages/IPython/core/interactiveshell.py:2718: DtypeWarning: Columns (9,18,21,32,35) have mixed types. Specify dtype option on import or set low_memory=False.\n",
            "  interactivity=interactivity, compiler=compiler, result=result)\n"
          ],
          "name": "stderr"
        }
      ]
    },
    {
      "cell_type": "code",
      "metadata": {
        "id": "QGvCs0csCsvv",
        "colab_type": "code",
        "colab": {
          "base_uri": "https://localhost:8080/",
          "height": 1000
        },
        "outputId": "9d320610-0223-4e24-f016-848e54461aa5"
      },
      "source": [
        "set(df.complaint_type)"
      ],
      "execution_count": 5,
      "outputs": [
        {
          "output_type": "execute_result",
          "data": {
            "text/plain": [
              "{'APPLIANCE',\n",
              " 'Abandoned Vehicle',\n",
              " 'Advocate - Lien',\n",
              " 'Advocate - Other',\n",
              " 'Advocate - RPIE',\n",
              " 'Advocate-Co-opCondo Abatement',\n",
              " 'Advocate-Commercial Exemptions',\n",
              " 'Advocate-Personal Exemptions',\n",
              " 'Advocate-Prop Refunds/Credits',\n",
              " 'Advocate-Property Value',\n",
              " 'Air Quality',\n",
              " \"Alzheimer's Care\",\n",
              " 'Animal Abuse',\n",
              " 'Animal Facility - No Permit',\n",
              " 'Animal in a Park',\n",
              " 'Animal-Abuse',\n",
              " 'Asbestos',\n",
              " 'BEST/Site Safety',\n",
              " 'Beach/Pool/Sauna Complaint',\n",
              " 'Benefit Card Replacement',\n",
              " 'Bereavement Support Group',\n",
              " 'Bike Rack Condition',\n",
              " 'Bike/Roller/Skate Chronic',\n",
              " 'Blocked Driveway',\n",
              " 'Boilers',\n",
              " 'Borough Office',\n",
              " 'Bottled Water',\n",
              " 'Bridge Condition',\n",
              " 'Broken Parking Meter',\n",
              " 'Building Marshals office',\n",
              " 'Building/Use',\n",
              " 'Bus Stop Shelter Complaint',\n",
              " 'Bus Stop Shelter Placement',\n",
              " 'Calorie Labeling',\n",
              " 'Case Management Agency Complaint',\n",
              " 'Collection Truck Noise',\n",
              " 'Comments',\n",
              " 'Construction Safety Enforcement',\n",
              " 'Consumer Complaint',\n",
              " 'Cooling Tower',\n",
              " 'Cranes and Derricks',\n",
              " 'Curb Condition',\n",
              " 'DCA / DOH New License Application Request',\n",
              " 'DEP Street Condition',\n",
              " 'DOF Parking - DMV Clearance',\n",
              " 'DOF Parking - Payment Issue',\n",
              " 'DOF Parking - Request Copy',\n",
              " 'DOF Parking - Request Status',\n",
              " 'DOF Parking - Tax Exemption',\n",
              " 'DOF Property - Owner Issue',\n",
              " 'DOF Property - Payment Issue',\n",
              " 'DOF Property - Property Value',\n",
              " 'DOF Property - RPIE Issue',\n",
              " 'DOF Property - Reduction Issue',\n",
              " 'DOF Property - Request Copy',\n",
              " 'DOF Property - Update Account',\n",
              " 'DOOR/WINDOW',\n",
              " 'DPR Internal',\n",
              " 'DRIE',\n",
              " 'Damaged Tree',\n",
              " 'Day Care',\n",
              " 'Dead/Dying Tree',\n",
              " 'Derelict Bicycle',\n",
              " 'Derelict Vehicle',\n",
              " 'Derelict Vehicles',\n",
              " 'Dirty Conditions',\n",
              " 'Disorderly Youth',\n",
              " 'Dispatched Taxi Complaint',\n",
              " 'Drinking',\n",
              " 'Drinking Water',\n",
              " 'Drug Activity',\n",
              " 'ELECTRIC',\n",
              " 'ELEVATOR',\n",
              " 'Elder Abuse',\n",
              " 'Electrical',\n",
              " 'Electronics Waste',\n",
              " 'Electronics Waste Appointment',\n",
              " 'Elevator',\n",
              " 'Emergency Response Team (ERT)',\n",
              " 'Executive Inspections',\n",
              " 'FATF',\n",
              " 'FHV Licensee Complaint',\n",
              " 'FLOORING/STAIRS',\n",
              " 'Facades',\n",
              " 'Ferry Complaint',\n",
              " 'Ferry Inquiry',\n",
              " 'Ferry Permit',\n",
              " 'Fire Alarm - New System',\n",
              " 'Fire Alarm - Reinspection',\n",
              " 'Foam Ban Enforcement',\n",
              " 'Food Establishment',\n",
              " 'Food Poisoning',\n",
              " 'For Hire Vehicle Complaint',\n",
              " 'For Hire Vehicle Report',\n",
              " 'Forensic Engineering',\n",
              " 'Forms',\n",
              " 'Found Property',\n",
              " 'GENERAL',\n",
              " 'General',\n",
              " 'General Construction/Plumbing',\n",
              " 'Graffiti',\n",
              " 'Green Taxi Complaint',\n",
              " 'Green Taxi Report',\n",
              " 'HEAT/HOT WATER',\n",
              " 'HPD Literature Request',\n",
              " 'Harboring Bees/Wasps',\n",
              " 'Hazardous Materials',\n",
              " 'Highway Condition',\n",
              " 'Highway Sign - Damaged',\n",
              " 'Highway Sign - Dangling',\n",
              " 'Highway Sign - Missing',\n",
              " 'Home Care Provider Complaint',\n",
              " 'Home Delivered Meal - Missed Delivery',\n",
              " 'Home Delivered Meal Complaint',\n",
              " 'Homeless Encampment',\n",
              " 'Homeless Person Assistance',\n",
              " 'Housing - Low Income Senior',\n",
              " 'Housing Options',\n",
              " 'Illegal Animal Kept as Pet',\n",
              " 'Illegal Animal Sold',\n",
              " 'Illegal Fireworks',\n",
              " 'Illegal Parking',\n",
              " 'Illegal Tree Damage',\n",
              " 'Indoor Air Quality',\n",
              " 'Indoor Sewage',\n",
              " 'Industrial Waste',\n",
              " 'Investigations and Discipline (IAD)',\n",
              " 'Lead',\n",
              " 'Lifeguard',\n",
              " 'LinkNYC',\n",
              " 'Litter Basket / Request',\n",
              " 'Lost Property',\n",
              " 'Maintenance or Facility',\n",
              " 'Miscellaneous Categories',\n",
              " 'Missed Collection',\n",
              " 'Missed Collection (All Materials)',\n",
              " 'Mobile Food Vendor',\n",
              " 'Mold',\n",
              " 'Mosquitoes',\n",
              " 'Municipal Parking Facility',\n",
              " 'New Tree Request',\n",
              " 'Noise',\n",
              " 'Noise - Commercial',\n",
              " 'Noise - Helicopter',\n",
              " 'Noise - House of Worship',\n",
              " 'Noise - Park',\n",
              " 'Noise - Residential',\n",
              " 'Noise - Street/Sidewalk',\n",
              " 'Noise - Vehicle',\n",
              " 'Non-Emergency Police Matter',\n",
              " 'Non-Residential Heat',\n",
              " 'OEM Literature Request',\n",
              " 'OUTSIDE BUILDING',\n",
              " 'Other Enforcement',\n",
              " 'Outside Building',\n",
              " 'Overflowing Litter Baskets',\n",
              " 'Overflowing Recycling Baskets',\n",
              " 'Overgrown Tree/Branches',\n",
              " 'PAINT/PLASTER',\n",
              " 'PLUMBING',\n",
              " 'Panhandling',\n",
              " 'Pet Shop',\n",
              " 'Plant',\n",
              " 'Plumbing',\n",
              " 'Poison Ivy',\n",
              " 'Posting Advertisement',\n",
              " 'Public Payphone Complaint',\n",
              " 'Public Toilet',\n",
              " 'Quality of Life',\n",
              " 'Question',\n",
              " 'Radioactive Material',\n",
              " 'Rangehood',\n",
              " 'Recycling Enforcement',\n",
              " 'Request Large Bulky Item Collection',\n",
              " 'Research Questions',\n",
              " 'Rodent',\n",
              " 'Root/Sewer/Sidewalk Condition',\n",
              " 'SAFETY',\n",
              " 'SCRIE',\n",
              " 'Safety',\n",
              " 'Sanitation Condition',\n",
              " 'Scaffold Safety',\n",
              " 'School Maintenance',\n",
              " 'Senior Center Complaint',\n",
              " 'Sewer',\n",
              " 'Sidewalk Condition',\n",
              " 'Single Occupancy Bathroom',\n",
              " 'Smoking',\n",
              " 'Snow',\n",
              " 'Special Natural Area District (SNAD)',\n",
              " 'Special Operations',\n",
              " 'Special Projects Inspection Team (SPIT)',\n",
              " 'Standing Water',\n",
              " 'Street Condition',\n",
              " 'Street Light Condition',\n",
              " 'Street Sign - Damaged',\n",
              " 'Street Sign - Dangling',\n",
              " 'Street Sign - Missing',\n",
              " 'Sustainability Enforcement',\n",
              " 'Sweeping/Inadequate',\n",
              " 'Sweeping/Missed',\n",
              " 'Sweeping/Missed-Inadequate',\n",
              " 'Tattooing',\n",
              " 'Taxi Complaint',\n",
              " 'Taxi Compliment',\n",
              " 'Taxi Licensee Complaint',\n",
              " 'Taxi Report',\n",
              " 'Taxpayer Advocate Inquiry',\n",
              " 'Traffic',\n",
              " 'Traffic Signal Condition',\n",
              " 'Transportation Provider Complaint',\n",
              " 'Tunnel Condition',\n",
              " 'UNSANITARY CONDITION',\n",
              " 'Unleashed Dog',\n",
              " 'Unlicensed Dog',\n",
              " 'Unsanitary Animal Facility',\n",
              " 'Unsanitary Animal Pvt Property',\n",
              " 'Unsanitary Condition',\n",
              " 'Unsanitary Pigeon Condition',\n",
              " 'Urinating in Public',\n",
              " 'Vacant Lot',\n",
              " 'Vending',\n",
              " 'Violation of Park Rules',\n",
              " 'WATER LEAK',\n",
              " 'Water Conservation',\n",
              " 'Water Quality',\n",
              " 'Water System',\n",
              " 'Window Guard',\n",
              " 'X-Ray Machine/Equipment'}"
            ]
          },
          "metadata": {
            "tags": []
          },
          "execution_count": 5
        }
      ]
    },
    {
      "cell_type": "code",
      "metadata": {
        "id": "H2PzLY2rHW1l",
        "colab_type": "code",
        "colab": {}
      },
      "source": [
        "def recode_borocd_counts(row):\n",
        "  if row.community_board[0] != 'U':\n",
        "    if 'MANHATTAN' in row.community_board:\n",
        "      return '1' + row.community_board[0:2]\n",
        "    elif 'BRONX' in row.community_board:\n",
        "      return '2' + row.community_board[0:2]\n",
        "    elif 'BROOKLYN' in row.community_board:\n",
        "      return '3' + row.community_board[0:2]\n",
        "    elif 'QUEENS' in row.community_board:\n",
        "      return '4' + row.community_board[0:2]\n",
        "    elif 'STATEN ISLAND' in row.community_board:\n",
        "      return '5' + row.community_board[0:2]\n",
        "  else:\n",
        "    return 'Invalid borocd'\n",
        "\n",
        "df['borocd'] = df.apply(recode_borocd_counts, axis=1)"
      ],
      "execution_count": 0,
      "outputs": []
    },
    {
      "cell_type": "code",
      "metadata": {
        "id": "35-DHm6MljAw",
        "colab_type": "code",
        "colab": {}
      },
      "source": [
        "noise_complaint = df[df.complaint_type == 'Noise - Residential']"
      ],
      "execution_count": 0,
      "outputs": []
    },
    {
      "cell_type": "code",
      "metadata": {
        "id": "OxHTTuqYmxo9",
        "colab_type": "code",
        "colab": {}
      },
      "source": [
        "water_complaint = df[df.complaint_type == 'HEAT/HOT WATER']"
      ],
      "execution_count": 0,
      "outputs": []
    },
    {
      "cell_type": "code",
      "metadata": {
        "id": "ivXPjbrhnKiT",
        "colab_type": "code",
        "colab": {}
      },
      "source": [
        "other_complaint = df[(df.complaint_type != 'Noise - Residential') & (df.complaint_type != 'HEAT/HOT WATER')]"
      ],
      "execution_count": 0,
      "outputs": []
    },
    {
      "cell_type": "code",
      "metadata": {
        "id": "fgnwf_QcdvUe",
        "colab_type": "code",
        "outputId": "970f5b34-6f2c-452b-ad8b-de6fa70cd430",
        "colab": {
          "base_uri": "https://localhost:8080/",
          "height": 85
        }
      },
      "source": [
        "count_noise = noise_complaint.groupby('community_board').size().reset_index(name='count_311_noise')\n",
        "print(len(count_noise))\n",
        "\n",
        "count_water = water_complaint.groupby('community_board').size().reset_index(name='count_311_water')\n",
        "print(len(count_water))\n",
        "\n",
        "count_other = other_complaint.groupby('community_board').size().reset_index(name='count_311_other')\n",
        "print(len(count_other))\n",
        "\n",
        "count_all = df.groupby('community_board').size().reset_index(name='count_311_total')\n",
        "print(len(count_all))"
      ],
      "execution_count": 10,
      "outputs": [
        {
          "output_type": "stream",
          "text": [
            "69\n",
            "66\n",
            "77\n",
            "77\n"
          ],
          "name": "stdout"
        }
      ]
    },
    {
      "cell_type": "code",
      "metadata": {
        "id": "bCH4DIk5E9al",
        "colab_type": "code",
        "colab": {}
      },
      "source": [
        "count_noise['borocd'] = count_noise.apply(recode_borocd_counts, axis=1)\n",
        "\n",
        "count_water['borocd'] = count_water.apply(recode_borocd_counts, axis=1)\n",
        "\n",
        "count_other['borocd'] = count_other.apply(recode_borocd_counts, axis=1)\n",
        "\n",
        "count_all['borocd'] = count_all.apply(recode_borocd_counts, axis=1)"
      ],
      "execution_count": 0,
      "outputs": []
    },
    {
      "cell_type": "code",
      "metadata": {
        "id": "7M0My5TVFgb9",
        "colab_type": "code",
        "colab": {}
      },
      "source": [
        "valid_borocds = ['101','102','103','104','105','106','107','108','109','110','111','112','201','202','203','204','205','206','207','208','209','210','211','212','301','302','303','304','305','306','307','308','309','310','311','312','313','314','315','316','317','318','401','402','403','404','405','406','407','408','409','410','411','412','413','414','501','502','503']"
      ],
      "execution_count": 0,
      "outputs": []
    },
    {
      "cell_type": "code",
      "metadata": {
        "id": "tyvVV-n8FhKR",
        "colab_type": "code",
        "outputId": "ff4b6686-e4e9-4294-9a91-37742566bdf6",
        "colab": {
          "base_uri": "https://localhost:8080/",
          "height": 85
        }
      },
      "source": [
        "count_noise = count_noise[count_noise.borocd.isin(valid_borocds)]\n",
        "print(len(count_noise))\n",
        "\n",
        "count_water = count_water[count_water.borocd.isin(valid_borocds)]\n",
        "print(len(count_water))\n",
        "\n",
        "count_other = count_other[count_other.borocd.isin(valid_borocds)]\n",
        "print(len(count_other))\n",
        "\n",
        "count_all = count_all[count_all.borocd.isin(valid_borocds)]\n",
        "print(len(count_all))"
      ],
      "execution_count": 13,
      "outputs": [
        {
          "output_type": "stream",
          "text": [
            "59\n",
            "59\n",
            "59\n",
            "59\n"
          ],
          "name": "stdout"
        }
      ]
    },
    {
      "cell_type": "code",
      "metadata": {
        "id": "HOyQrki6HIma",
        "colab_type": "code",
        "outputId": "d8f99682-1121-4130-a147-e39f70967c8b",
        "colab": {
          "base_uri": "https://localhost:8080/",
          "height": 425
        }
      },
      "source": [
        "print(count_noise.head())\n",
        "print(count_water.head())\n",
        "print(count_other.head())\n",
        "print(count_all.head())"
      ],
      "execution_count": 14,
      "outputs": [
        {
          "output_type": "stream",
          "text": [
            "    community_board  count_311_noise borocd\n",
            "1          01 BRONX             3691    201\n",
            "2       01 BROOKLYN             5844    301\n",
            "3      01 MANHATTAN              722    101\n",
            "4         01 QUEENS             4589    401\n",
            "5  01 STATEN ISLAND             5052    501\n",
            "    community_board  count_311_water borocd\n",
            "0          01 BRONX             3346    201\n",
            "1       01 BROOKLYN             2868    301\n",
            "2      01 MANHATTAN              276    101\n",
            "3         01 QUEENS             2466    401\n",
            "4  01 STATEN ISLAND             1644    501\n",
            "    community_board  count_311_other borocd\n",
            "1          01 BRONX            20316    201\n",
            "2       01 BROOKLYN            59389    301\n",
            "3      01 MANHATTAN            20261    101\n",
            "4         01 QUEENS            53370    401\n",
            "5  01 STATEN ISLAND            58449    501\n",
            "    community_board  count_311_total borocd\n",
            "1          01 BRONX            27353    201\n",
            "2       01 BROOKLYN            68101    301\n",
            "3      01 MANHATTAN            21259    101\n",
            "4         01 QUEENS            60425    401\n",
            "5  01 STATEN ISLAND            65145    501\n"
          ],
          "name": "stdout"
        }
      ]
    },
    {
      "cell_type": "markdown",
      "metadata": {
        "id": "yrIggTB6gLrZ",
        "colab_type": "text"
      },
      "source": [
        "Create a stacked bar chart of 311 requests per community district. Each community district bar should be comprised of three stacked bars, one for each category listed below. The total height of each community district bar (the sum of the three stacked bars) should reflect the total count of 311 complaints per community district."
      ]
    },
    {
      "cell_type": "code",
      "metadata": {
        "id": "ufJZkMoUo7OU",
        "colab_type": "code",
        "colab": {}
      },
      "source": [
        "position_on_x = np.arange(len(count_all))"
      ],
      "execution_count": 0,
      "outputs": []
    },
    {
      "cell_type": "code",
      "metadata": {
        "id": "yvV0lCMspOVs",
        "colab_type": "code",
        "colab": {}
      },
      "source": [
        "noise = np.array(count_noise.sort_values(by='count_311_noise', ascending=False).count_311_noise)\n",
        "water = np.array(count_water.sort_values(by='count_311_water', ascending=False).count_311_water)\n",
        "other = np.array(count_other.sort_values(by='count_311_other', ascending=False).count_311_other)"
      ],
      "execution_count": 0,
      "outputs": []
    },
    {
      "cell_type": "code",
      "metadata": {
        "id": "qutqhontp1UW",
        "colab_type": "code",
        "outputId": "2f5fd789-1c06-4283-a1a4-f4e938e5bee8",
        "colab": {
          "base_uri": "https://localhost:8080/",
          "height": 413
        }
      },
      "source": [
        "plt.figure(figsize=(15, 6))\n",
        "\n",
        "plot1 = plt.bar(\n",
        "  position_on_x,\n",
        "  noise,\n",
        "  align='center',\n",
        "  color='cyan',\n",
        "  width=0.7,\n",
        "  label='Noise Complaints'\n",
        ")\n",
        "\n",
        "plot2 = plt.bar(\n",
        "  position_on_x,\n",
        "  water,\n",
        "  bottom=noise, \n",
        "  align='center',\n",
        "  color='blue',\n",
        "  width=0.7,\n",
        "  label='Heat/Hot Water Complaints'\n",
        ")\n",
        "\n",
        "plot3 = plt.bar(\n",
        "  position_on_x,\n",
        "  other,\n",
        "  bottom=noise + water, \n",
        "  align='center',\n",
        "  color='#a85c32',\n",
        "  width=0.7,\n",
        "  label='Other Complaints'\n",
        ")\n",
        "\n",
        "plt.xticks(position_on_x, count_all.sort_values(by='count_311_total', ascending=False).borocd, rotation=90)\n",
        "\n",
        "plt.title('Count of Noise, Hot Water and Other 311 Requests per Community District')\n",
        "plt.xlabel('BoroCD')\n",
        "plt.ylabel('# of Requests')\n",
        "plt.legend()\n",
        "\n",
        "plt.show()"
      ],
      "execution_count": 32,
      "outputs": [
        {
          "output_type": "display_data",
          "data": {
            "image/png": "[encoded data removed]",
            "text/plain": [
              "<Figure size 1080x432 with 1 Axes>"
            ]
          },
          "metadata": {
            "tags": []
          }
        }
      ]
    },
    {
      "cell_type": "markdown",
      "metadata": {
        "id": "yqRhTaJOgRiR",
        "colab_type": "text"
      },
      "source": [
        "Using the same three dataframes created in Step 1, create a scatter plot of community district population (x-axis) vs. community district 311 counts (y-axis) split out by complaint category (noise, heat/water, other). The scatter plot should show the counts of each of the three complaint categories in a different color."
      ]
    },
    {
      "cell_type": "code",
      "metadata": {
        "id": "WKKmF1bRkip1",
        "colab_type": "code",
        "colab": {
          "base_uri": "https://localhost:8080/",
          "height": 204
        },
        "outputId": "2f2624bf-dd8d-4508-e8ac-6eec919d8fc1"
      },
      "source": [
        "population = pd.read_csv('https://data.cityofnewyork.us/api/views/xi7c-iiu2/rows.csv?accessType=DOWNLOAD', header='infer')\n",
        "population.head()"
      ],
      "execution_count": 19,
      "outputs": [
        {
          "output_type": "execute_result",
          "data": {
            "text/html": [
              "<div>\n",
              "<style scoped>\n",
              "    .dataframe tbody tr th:only-of-type {\n",
              "        vertical-align: middle;\n",
              "    }\n",
              "\n",
              "    .dataframe tbody tr th {\n",
              "        vertical-align: top;\n",
              "    }\n",
              "\n",
              "    .dataframe thead th {\n",
              "        text-align: right;\n",
              "    }\n",
              "</style>\n",
              "<table border=\"1\" class=\"dataframe\">\n",
              "  <thead>\n",
              "    <tr style=\"text-align: right;\">\n",
              "      <th></th>\n",
              "      <th>Borough</th>\n",
              "      <th>CD Number</th>\n",
              "      <th>CD Name</th>\n",
              "      <th>1970 Population</th>\n",
              "      <th>1980 Population</th>\n",
              "      <th>1990 Population</th>\n",
              "      <th>2000 Population</th>\n",
              "      <th>2010 Population</th>\n",
              "    </tr>\n",
              "  </thead>\n",
              "  <tbody>\n",
              "    <tr>\n",
              "      <th>0</th>\n",
              "      <td>Bronx</td>\n",
              "      <td>1</td>\n",
              "      <td>Melrose, Mott Haven, Port Morris</td>\n",
              "      <td>138557</td>\n",
              "      <td>78441</td>\n",
              "      <td>77214</td>\n",
              "      <td>82159</td>\n",
              "      <td>91497</td>\n",
              "    </tr>\n",
              "    <tr>\n",
              "      <th>1</th>\n",
              "      <td>Bronx</td>\n",
              "      <td>2</td>\n",
              "      <td>Hunts Point, Longwood</td>\n",
              "      <td>99493</td>\n",
              "      <td>34399</td>\n",
              "      <td>39443</td>\n",
              "      <td>46824</td>\n",
              "      <td>52246</td>\n",
              "    </tr>\n",
              "    <tr>\n",
              "      <th>2</th>\n",
              "      <td>Bronx</td>\n",
              "      <td>3</td>\n",
              "      <td>Morrisania, Crotona Park East</td>\n",
              "      <td>150636</td>\n",
              "      <td>53635</td>\n",
              "      <td>57162</td>\n",
              "      <td>68574</td>\n",
              "      <td>79762</td>\n",
              "    </tr>\n",
              "    <tr>\n",
              "      <th>3</th>\n",
              "      <td>Bronx</td>\n",
              "      <td>4</td>\n",
              "      <td>Highbridge, Concourse Village</td>\n",
              "      <td>144207</td>\n",
              "      <td>114312</td>\n",
              "      <td>119962</td>\n",
              "      <td>139563</td>\n",
              "      <td>146441</td>\n",
              "    </tr>\n",
              "    <tr>\n",
              "      <th>4</th>\n",
              "      <td>Bronx</td>\n",
              "      <td>5</td>\n",
              "      <td>University Hts., Fordham, Mt. Hope</td>\n",
              "      <td>121807</td>\n",
              "      <td>107995</td>\n",
              "      <td>118435</td>\n",
              "      <td>128313</td>\n",
              "      <td>128200</td>\n",
              "    </tr>\n",
              "  </tbody>\n",
              "</table>\n",
              "</div>"
            ],
            "text/plain": [
              "  Borough  CD Number                             CD Name  1970 Population  \\\n",
              "0   Bronx          1    Melrose, Mott Haven, Port Morris           138557   \n",
              "1   Bronx          2               Hunts Point, Longwood            99493   \n",
              "2   Bronx          3       Morrisania, Crotona Park East           150636   \n",
              "3   Bronx          4       Highbridge, Concourse Village           144207   \n",
              "4   Bronx          5  University Hts., Fordham, Mt. Hope           121807   \n",
              "\n",
              "   1980 Population  1990 Population  2000 Population  2010 Population  \n",
              "0            78441            77214            82159            91497  \n",
              "1            34399            39443            46824            52246  \n",
              "2            53635            57162            68574            79762  \n",
              "3           114312           119962           139563           146441  \n",
              "4           107995           118435           128313           128200  "
            ]
          },
          "metadata": {
            "tags": []
          },
          "execution_count": 19
        }
      ]
    },
    {
      "cell_type": "code",
      "metadata": {
        "id": "YxdYYGAHBk1Q",
        "colab_type": "code",
        "colab": {
          "base_uri": "https://localhost:8080/",
          "height": 1000
        },
        "outputId": "3bacc071-ed6e-460b-fcd5-b9ec3cf6824b"
      },
      "source": [
        "def recode_borocd_pop(row):\n",
        "  if row.Borough == 'Manhattan':\n",
        "    return str(100 + row['CD Number'])\n",
        "  elif row.Borough == 'Bronx':\n",
        "    return str(200 + row['CD Number'])\n",
        "  elif row.Borough == 'Brooklyn':\n",
        "    return str(300 + row['CD Number'])\n",
        "  elif row.Borough == 'Queens':\n",
        "    return str(400 + row['CD Number'])\n",
        "  elif row.Borough == 'Staten Island':\n",
        "    return str(500 + row['CD Number'])\n",
        "  else:\n",
        "    return 'Invalid borocd'\n",
        "\n",
        "population['borocd'] = population.apply(recode_borocd_pop, axis=1)\n",
        "print(population['borocd'])"
      ],
      "execution_count": 20,
      "outputs": [
        {
          "output_type": "stream",
          "text": [
            "0     201\n",
            "1     202\n",
            "2     203\n",
            "3     204\n",
            "4     205\n",
            "5     206\n",
            "6     207\n",
            "7     208\n",
            "8     209\n",
            "9     210\n",
            "10    211\n",
            "11    212\n",
            "12    301\n",
            "13    302\n",
            "14    303\n",
            "15    304\n",
            "16    305\n",
            "17    306\n",
            "18    307\n",
            "19    308\n",
            "20    309\n",
            "21    310\n",
            "22    311\n",
            "23    312\n",
            "24    313\n",
            "25    314\n",
            "26    315\n",
            "27    316\n",
            "28    317\n",
            "29    318\n",
            "30    101\n",
            "31    102\n",
            "32    103\n",
            "33    104\n",
            "34    105\n",
            "35    106\n",
            "36    107\n",
            "37    108\n",
            "38    109\n",
            "39    110\n",
            "40    111\n",
            "41    112\n",
            "42    401\n",
            "43    402\n",
            "44    403\n",
            "45    404\n",
            "46    405\n",
            "47    406\n",
            "48    407\n",
            "49    408\n",
            "50    409\n",
            "51    410\n",
            "52    411\n",
            "53    412\n",
            "54    413\n",
            "55    414\n",
            "56    501\n",
            "57    502\n",
            "58    503\n",
            "Name: borocd, dtype: object\n"
          ],
          "name": "stdout"
        }
      ]
    },
    {
      "cell_type": "code",
      "metadata": {
        "id": "dZC9i1dTR7c_",
        "colab_type": "code",
        "colab": {}
      },
      "source": [
        "merged_noise = pd.merge(left=count_noise, right=population, left_on='borocd', right_on='borocd')"
      ],
      "execution_count": 0,
      "outputs": []
    },
    {
      "cell_type": "code",
      "metadata": {
        "id": "WwsvLPEUSPBl",
        "colab_type": "code",
        "colab": {}
      },
      "source": [
        "merged_water = pd.merge(left=count_water, right=population, left_on='borocd', right_on='borocd')"
      ],
      "execution_count": 0,
      "outputs": []
    },
    {
      "cell_type": "code",
      "metadata": {
        "id": "7LVYiQiKSSa2",
        "colab_type": "code",
        "colab": {}
      },
      "source": [
        "merged_other = pd.merge(left=count_other, right=population, left_on='borocd', right_on='borocd')"
      ],
      "execution_count": 0,
      "outputs": []
    },
    {
      "cell_type": "code",
      "metadata": {
        "id": "l1lLHMhEScmc",
        "colab_type": "code",
        "colab": {}
      },
      "source": [
        "noise_group = [ \n",
        "  [merged_noise['2010 Population']/1000],\n",
        "  [merged_noise.count_311_noise]\n",
        "]\n",
        "\n",
        "water_group = [\n",
        "  [merged_water['2010 Population']/1000],\n",
        "  [merged_water.count_311_water]\n",
        "]\n",
        "\n",
        "other_group = [ \n",
        "  [merged_other['2010 Population']/1000],\n",
        "  [merged_other.count_311_other]\n",
        "]"
      ],
      "execution_count": 0,
      "outputs": []
    },
    {
      "cell_type": "code",
      "metadata": {
        "id": "s6sMH83dS3bm",
        "colab_type": "code",
        "colab": {
          "base_uri": "https://localhost:8080/",
          "height": 404
        },
        "outputId": "a10ba336-4889-477c-af2d-2589c26ef7a4"
      },
      "source": [
        "x = np.array(population['2010 Population']/1000)\n",
        "y = np.array(count_all.count_311_total)\n",
        "\n",
        "data_per_complaint = [noise_group, water_group, other_group]\n",
        "\n",
        "# define the color to be used for the markers for each data subset group\n",
        "colors = [\"cyan\", \"blue\", \"#a84a32\"]\n",
        "\n",
        "# define the labels to be used for the data subset group\n",
        "groups = [\"Noise Complaints\", \"Heat/Hot Water Complaints\", \"Other Complaints\"]\n",
        "\n",
        "plt.figure(figsize=(15,6))\n",
        "\n",
        "# create a for loop that adds a scatterplot to the figure for each data subset group\n",
        "for data, color, group in zip(data_per_complaint, colors, groups): \n",
        "  x, y = data\n",
        "  plt.scatter(x, y, alpha=0.8, c=color, s=50, label=group)\n",
        "\n",
        "plt.title('311 Requests by Complaint Type vs. Community District Population')\n",
        "plt.xlabel('Population in Community District (Thousands)')\n",
        "plt.ylabel('# of 311 Requests in Community District')\n",
        "\n",
        "plt.legend(loc=2)\n",
        "\n",
        "plt.show()"
      ],
      "execution_count": 35,
      "outputs": [
        {
          "output_type": "display_data",
          "data": {
            "image/png": "[encoded data removed]",
            "text/plain": [
              "<Figure size 1080x432 with 1 Axes>"
            ]
          },
          "metadata": {
            "tags": []
          }
        }
      ]
    },
    {
      "cell_type": "markdown",
      "metadata": {
        "id": "Hi2bBz3sgZHb",
        "colab_type": "text"
      },
      "source": [
        "**Does it seem like there's a positive correlation between population and noise complaints or population and heat/water complaints? What's a possible explanation for the relationship or lack of relationship?**\n",
        "There does not appear to be any relationship between population and noise complaints or population and heat/water complaints. One reason for why there may be a lack of relationship between population and noise complaints could be because of the nature of the complaint -- people likely don't call 311 to make complaints about noisey neighbors or streets. I'd be interested to know what falls into the category of residential noise. A possible explanation for the lack of relationship between hot water complaints and population could be that the water conditions in different districts don't depend on population, but on other neighborhood conditions, like average or median income in the neighborhood. \n"
      ]
    }
  ]
}